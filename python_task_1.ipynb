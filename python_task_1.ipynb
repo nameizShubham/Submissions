{
 "cells": [
  {
   "cell_type": "markdown",
   "id": "dcc7b5d3",
   "metadata": {},
   "source": [
    "Question-1 Car Matrix Generator"
   ]
  },
  {
   "cell_type": "code",
   "execution_count": 13,
   "id": "d8a75832",
   "metadata": {},
   "outputs": [],
   "source": [
    "import pandas as pd\n",
    "\n",
    "df = pd.read_csv('dataset-1.csv')\n",
    "\n",
    "def generate_car_matrix(df):\n",
    "    # Pivot the DataFrame to create a matrix\n",
    "    df = df.pivot(index='id_1', columns='id_2', values='car')\n",
    "\n",
    "    # Fill NaN values with 0\n",
    "    df = df.fillna(0)\n",
    "\n",
    "    # Set diagonal values to 0\n",
    "    for i in range(min(df.shape)):\n",
    "        df.iloc[i, i] = 0\n",
    "\n",
    "    return df"
   ]
  },
  {
   "cell_type": "markdown",
   "id": "c43e5fa4",
   "metadata": {},
   "source": [
    "Question-2 Car Type Count calculation"
   ]
  },
  {
   "cell_type": "code",
   "execution_count": 17,
   "id": "5468f4ab",
   "metadata": {},
   "outputs": [],
   "source": [
    "import pandas as pd\n",
    "import numpy as np\n",
    "\n",
    "df = pd.read_csv('dataset-1.csv')\n",
    "\n",
    "def get_type_count(df):\n",
    "    # Add a new categorical column 'car_type' based on 'car' values\n",
    "    terms = [\n",
    "        (df['car'] <= 15),\n",
    "        (df['car'] > 15) & (df['car'] <= 25),\n",
    "        (df['car'] > 25)\n",
    "    ]\n",
    "\n",
    "    option = ['low', 'medium', 'high']\n",
    "\n",
    "    df['car_type'] = pd.Series(np.select(terms, option, default='unknown'), dtype=\"category\")\n",
    "\n",
    "    # Calculate the count of occurrences for each car_type category\n",
    "    type_counts = df['car_type'].value_counts().to_dict()\n",
    "\n",
    "    # Sort the dictionary alphabetically based on keys\n",
    "    type_counts = dict(sorted(type_counts.items()))\n",
    "\n",
    "    return type_counts"
   ]
  },
  {
   "cell_type": "markdown",
   "id": "2430bfee",
   "metadata": {},
   "source": [
    "Question-3 Bus count index retrieval"
   ]
  },
  {
   "cell_type": "code",
   "execution_count": 21,
   "id": "86ef049a",
   "metadata": {},
   "outputs": [],
   "source": [
    "import pandas as pd\n",
    "\n",
    "df = pd.read_csv('dataset-1.csv')\n",
    "\n",
    "def get_bus_indexes(df):\n",
    "    # Calculate the mean value of the 'bus' column\n",
    "    bus_avg = df['bus'].mean()\n",
    "\n",
    "    # Identify indices where 'bus' values are greater than twice the mean\n",
    "    bus_index = df[df['bus'] > 2 * bus_avg].index.tolist()\n",
    "\n",
    "    # Sort the indices in ascending order\n",
    "    bus_index.sort()\n",
    "\n",
    "    return bus_index"
   ]
  },
  {
   "cell_type": "markdown",
   "id": "112deadc",
   "metadata": {},
   "source": [
    "Question-4 Route Filtering"
   ]
  },
  {
   "cell_type": "code",
   "execution_count": 22,
   "id": "74f41ed5",
   "metadata": {},
   "outputs": [],
   "source": [
    "import pandas as pd\n",
    "\n",
    "df = pd.read_csv('dataset-1.csv')\n",
    "\n",
    "def filter_routes(df):\n",
    "    # Group by 'route' and calculate the average of 'truck' values\n",
    "    avg_truck = df.groupby('route')['truck'].mean()\n",
    "\n",
    "    # Filter routes where the average of 'truck' values is greater than 7\n",
    "    routes = avg_truck[avg_truck > 7].index.tolist()\n",
    "\n",
    "    # Sort the list of selected routes\n",
    "    routes.sort()\n",
    "\n",
    "    return routes"
   ]
  },
  {
   "cell_type": "markdown",
   "id": "a9747971",
   "metadata": {},
   "source": [
    "Question-5 Matrix Value Modification"
   ]
  },
  {
   "cell_type": "code",
   "execution_count": 24,
   "id": "aad67b17",
   "metadata": {},
   "outputs": [],
   "source": [
    "import pandas as pd\n",
    "\n",
    "df = pd.read_csv('dataset-1.csv')\n",
    "\n",
    "def generate_car_matrix(df):\n",
    "    # Pivot the DataFrame to create a matrix\n",
    "    df = df.pivot(index='id_1', columns='id_2', values='car')\n",
    "\n",
    "    # Fill NaN values with 0\n",
    "    df = df.fillna(0)\n",
    "\n",
    "    # Set diagonal values to 0\n",
    "    for i in range(min(df.shape)):\n",
    "        df.iloc[i, i] = 0\n",
    "\n",
    "    return df\n",
    "\n",
    "res_mat=generate_car_matrix(df)\n",
    "\n",
    "def multiply_matrix(res_mat):\n",
    "    # Create a copy of the DataFrame to avoid modifying the original\n",
    "    mod_mat = res_mat.copy()\n",
    "\n",
    "    # Apply the specified logic to modify values\n",
    "    mod_mat[mod_mat > 20] *= 0.75\n",
    "    mod_mat[mod_mat <= 20] *= 1.25\n",
    "\n",
    "    # Round values to 1 decimal place\n",
    "    mod_mat = mod_mat.round(1)\n",
    "\n",
    "    return mod_mat"
   ]
  },
  {
   "cell_type": "markdown",
   "id": "252e57c6",
   "metadata": {},
   "source": [
    "Question-6 Time Check"
   ]
  },
  {
   "cell_type": "code",
   "execution_count": 31,
   "id": "f83657c0",
   "metadata": {},
   "outputs": [],
   "source": [
    "import pandas as pd\n",
    "\n",
    "df = pd.read_csv('dataset-2.csv')\n",
    "import pandas as pd\n",
    "\n",
    "def time_check(df):\n",
    "    # Combine 'startDay' and 'startTime' to create a 'start_timestamp' column\n",
    "    df['start_timestamp'] = pd.to_datetime(df['startDay'] + ' ' + df['startTime'], errors='coerce')\n",
    "\n",
    "    # Combine 'endDay' and 'endTime' to create an 'end_timestamp' column\n",
    "    df['end_timestamp'] = pd.to_datetime(df['endDay'] + ' ' + df['endTime'], errors='coerce')\n",
    "\n",
    "    # Check if timestamps cover a full 24-hour period\n",
    "    full_24_hours = (df['end_timestamp'] - df['start_timestamp']) == pd.Timedelta(days=1)\n",
    "\n",
    "    # Check if timestamps span all 7 days of the week\n",
    "    span_7_days = df.groupby(['id', 'id_2'])['startDay'].nunique() == 7\n",
    "\n",
    "    # Combine the two conditions to get the final boolean series\n",
    "    completeness_series = full_24_hours.reset_index() & span_7_days.reset_index()\n",
    "\n",
    "    return completeness_series"
   ]
  },
  {
   "cell_type": "code",
   "execution_count": null,
   "id": "e80fd34c",
   "metadata": {},
   "outputs": [],
   "source": []
  }
 ],
 "metadata": {
  "kernelspec": {
   "display_name": "Python 3 (ipykernel)",
   "language": "python",
   "name": "python3"
  },
  "language_info": {
   "codemirror_mode": {
    "name": "ipython",
    "version": 3
   },
   "file_extension": ".py",
   "mimetype": "text/x-python",
   "name": "python",
   "nbconvert_exporter": "python",
   "pygments_lexer": "ipython3",
   "version": "3.9.13"
  }
 },
 "nbformat": 4,
 "nbformat_minor": 5
}
